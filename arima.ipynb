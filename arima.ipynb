{
 "cells": [
  {
   "cell_type": "code",
   "execution_count": 14,
   "metadata": {},
   "outputs": [],
   "source": [
    "import pandas as pd\n",
    "import numpy as np\n",
    "import matplotlib.pyplot as plt\n",
    "from pmdarima import auto_arima\n",
    "import warnings\n",
    "from statsmodels.tsa.arima.model import ARIMA\n",
    "\n",
    "\n",
    "def forecast(inputlst,upto):\n",
    "    data=pd.DataFrame(inputlst)\n",
    "    stepwise_fit=auto_arima(data,trace=True,suppress_warnings=True)\n",
    "    param=stepwise_fit.get_params()\n",
    "    ord=param['order']\n",
    "    model=ARIMA(data,order=ord)\n",
    "    model=model.fit()\n",
    "\n",
    "    start=len(data)\n",
    "    end=len(data)+upto-1\n",
    "    pred=model.predict(start=start,end=end,typ='levels').rename('ARIMA Predictions')\n",
    "    res = pred.astype(int)\n",
    "    for i in res:\n",
    "        inputlst.append(i)\n",
    "    return inputlst"
   ]
  },
  {
   "cell_type": "code",
   "execution_count": 15,
   "metadata": {},
   "outputs": [
    {
     "data": {
      "text/html": [
       "<div>\n",
       "<style scoped>\n",
       "    .dataframe tbody tr th:only-of-type {\n",
       "        vertical-align: middle;\n",
       "    }\n",
       "\n",
       "    .dataframe tbody tr th {\n",
       "        vertical-align: top;\n",
       "    }\n",
       "\n",
       "    .dataframe thead th {\n",
       "        text-align: right;\n",
       "    }\n",
       "</style>\n",
       "<table border=\"1\" class=\"dataframe\">\n",
       "  <thead>\n",
       "    <tr style=\"text-align: right;\">\n",
       "      <th></th>\n",
       "      <th>Date</th>\n",
       "      <th>Cases</th>\n",
       "    </tr>\n",
       "  </thead>\n",
       "  <tbody>\n",
       "    <tr>\n",
       "      <th>0</th>\n",
       "      <td>22/01/20</td>\n",
       "      <td>557</td>\n",
       "    </tr>\n",
       "    <tr>\n",
       "      <th>1</th>\n",
       "      <td>23/01/20</td>\n",
       "      <td>657</td>\n",
       "    </tr>\n",
       "    <tr>\n",
       "      <th>2</th>\n",
       "      <td>24/01/20</td>\n",
       "      <td>944</td>\n",
       "    </tr>\n",
       "    <tr>\n",
       "      <th>3</th>\n",
       "      <td>25/01/20</td>\n",
       "      <td>1437</td>\n",
       "    </tr>\n",
       "    <tr>\n",
       "      <th>4</th>\n",
       "      <td>26/01/20</td>\n",
       "      <td>2120</td>\n",
       "    </tr>\n",
       "  </tbody>\n",
       "</table>\n",
       "</div>"
      ],
      "text/plain": [
       "       Date  Cases\n",
       "0  22/01/20    557\n",
       "1  23/01/20    657\n",
       "2  24/01/20    944\n",
       "3  25/01/20   1437\n",
       "4  26/01/20   2120"
      ]
     },
     "execution_count": 15,
     "metadata": {},
     "output_type": "execute_result"
    }
   ],
   "source": [
    "df = pd.read_csv('./Dataset/global_cases.csv')\n",
    "df.head()"
   ]
  },
  {
   "cell_type": "code",
   "execution_count": 16,
   "metadata": {},
   "outputs": [],
   "source": [
    "lst = []"
   ]
  },
  {
   "cell_type": "code",
   "execution_count": 17,
   "metadata": {},
   "outputs": [],
   "source": [
    "for index, row in df.iterrows():\n",
    "    lst.append(row['Cases'])"
   ]
  },
  {
   "cell_type": "code",
   "execution_count": 18,
   "metadata": {},
   "outputs": [
    {
     "data": {
      "text/plain": [
       "1143"
      ]
     },
     "execution_count": 18,
     "metadata": {},
     "output_type": "execute_result"
    }
   ],
   "source": [
    "len(lst)"
   ]
  },
  {
   "cell_type": "code",
   "execution_count": 19,
   "metadata": {},
   "outputs": [
    {
     "name": "stdout",
     "output_type": "stream",
     "text": [
      "Performing stepwise search to minimize aic\n",
      " ARIMA(2,2,2)(0,0,0)[0]             : AIC=21626.561, Time=0.49 sec\n",
      " ARIMA(0,2,0)(0,0,0)[0]             : AIC=21740.351, Time=0.01 sec\n",
      " ARIMA(1,2,0)(0,0,0)[0]             : AIC=21730.547, Time=0.01 sec\n",
      " ARIMA(0,2,1)(0,0,0)[0]             : AIC=21709.402, Time=0.02 sec\n",
      " ARIMA(1,2,2)(0,0,0)[0]             : AIC=21616.587, Time=0.06 sec\n",
      " ARIMA(0,2,2)(0,0,0)[0]             : AIC=21604.490, Time=0.04 sec\n",
      " ARIMA(0,2,3)(0,0,0)[0]             : AIC=21607.851, Time=0.06 sec\n",
      " ARIMA(1,2,1)(0,0,0)[0]             : AIC=21629.619, Time=0.05 sec\n",
      " ARIMA(1,2,3)(0,0,0)[0]             : AIC=21494.043, Time=0.15 sec\n",
      " ARIMA(2,2,3)(0,0,0)[0]             : AIC=21544.381, Time=0.28 sec\n",
      " ARIMA(1,2,4)(0,0,0)[0]             : AIC=21449.315, Time=0.22 sec\n",
      " ARIMA(0,2,4)(0,0,0)[0]             : AIC=21455.535, Time=0.22 sec\n",
      " ARIMA(2,2,4)(0,0,0)[0]             : AIC=21434.957, Time=0.52 sec\n",
      " ARIMA(3,2,4)(0,0,0)[0]             : AIC=21320.449, Time=0.66 sec\n",
      " ARIMA(3,2,3)(0,0,0)[0]             : AIC=21312.302, Time=0.47 sec\n",
      " ARIMA(3,2,2)(0,0,0)[0]             : AIC=21317.922, Time=0.43 sec\n",
      " ARIMA(4,2,3)(0,0,0)[0]             : AIC=21265.399, Time=0.45 sec\n",
      " ARIMA(4,2,2)(0,0,0)[0]             : AIC=21204.139, Time=0.53 sec\n",
      " ARIMA(4,2,1)(0,0,0)[0]             : AIC=21522.554, Time=0.10 sec\n",
      " ARIMA(5,2,2)(0,0,0)[0]             : AIC=21158.718, Time=0.53 sec\n",
      " ARIMA(5,2,1)(0,0,0)[0]             : AIC=21415.202, Time=0.15 sec\n",
      " ARIMA(5,2,3)(0,0,0)[0]             : AIC=21152.708, Time=0.58 sec\n",
      " ARIMA(5,2,4)(0,0,0)[0]             : AIC=21074.904, Time=0.87 sec\n",
      " ARIMA(4,2,4)(0,0,0)[0]             : AIC=21287.071, Time=0.64 sec\n",
      " ARIMA(5,2,5)(0,0,0)[0]             : AIC=inf, Time=1.26 sec\n",
      " ARIMA(4,2,5)(0,0,0)[0]             : AIC=21175.615, Time=1.15 sec\n",
      " ARIMA(5,2,4)(0,0,0)[0] intercept   : AIC=21076.062, Time=1.04 sec\n",
      "\n",
      "Best model:  ARIMA(5,2,4)(0,0,0)[0]          \n",
      "Total fit time: 10.983 seconds\n"
     ]
    },
    {
     "name": "stderr",
     "output_type": "stream",
     "text": [
      "/Users/swoyamsiddharth/Library/Python/3.9/lib/python/site-packages/statsmodels/base/model.py:607: ConvergenceWarning: Maximum Likelihood optimization failed to converge. Check mle_retvals\n",
      "  warnings.warn(\"Maximum Likelihood optimization failed to \"\n",
      "/Users/swoyamsiddharth/Library/Python/3.9/lib/python/site-packages/statsmodels/tsa/statespace/representation.py:374: FutureWarning: Unknown keyword arguments: dict_keys(['typ']).Passing unknown keyword arguments will raise a TypeError beginning in version 0.15.\n",
      "  warnings.warn(msg, FutureWarning)\n"
     ]
    }
   ],
   "source": [
    "res=forecast(lst[:800],343)"
   ]
  },
  {
   "cell_type": "code",
   "execution_count": null,
   "metadata": {},
   "outputs": [],
   "source": []
  },
  {
   "cell_type": "code",
   "execution_count": 20,
   "metadata": {},
   "outputs": [
    {
     "data": {
      "text/plain": [
       "1143"
      ]
     },
     "execution_count": 20,
     "metadata": {},
     "output_type": "execute_result"
    }
   ],
   "source": [
    "len(lst)"
   ]
  },
  {
   "cell_type": "code",
   "execution_count": 21,
   "metadata": {},
   "outputs": [
    {
     "data": {
      "text/plain": [
       "1143"
      ]
     },
     "execution_count": 21,
     "metadata": {},
     "output_type": "execute_result"
    }
   ],
   "source": [
    "len(res)"
   ]
  },
  {
   "cell_type": "code",
   "execution_count": 22,
   "metadata": {},
   "outputs": [
    {
     "data": {
      "image/png": "[encoded data removed]",
      "text/plain": [
       "<Figure size 640x480 with 1 Axes>"
      ]
     },
     "metadata": {},
     "output_type": "display_data"
    }
   ],
   "source": [
    "import matplotlib.pyplot as plt\n",
    "\n",
    "plt.plot(lst, label='True')\n",
    "plt.plot(res, label='Predicted')\n",
    "plt.legend()\n",
    "plt.show()"
   ]
  },
  {
   "cell_type": "code",
   "execution_count": 23,
   "metadata": {},
   "outputs": [],
   "source": [
    "df.drop(df.columns[0], axis=1, inplace=True)"
   ]
  },
  {
   "cell_type": "code",
   "execution_count": 24,
   "metadata": {},
   "outputs": [
    {
     "data": {
      "text/html": [
       "<div>\n",
       "<style scoped>\n",
       "    .dataframe tbody tr th:only-of-type {\n",
       "        vertical-align: middle;\n",
       "    }\n",
       "\n",
       "    .dataframe tbody tr th {\n",
       "        vertical-align: top;\n",
       "    }\n",
       "\n",
       "    .dataframe thead th {\n",
       "        text-align: right;\n",
       "    }\n",
       "</style>\n",
       "<table border=\"1\" class=\"dataframe\">\n",
       "  <thead>\n",
       "    <tr style=\"text-align: right;\">\n",
       "      <th></th>\n",
       "      <th>Cases</th>\n",
       "    </tr>\n",
       "  </thead>\n",
       "  <tbody>\n",
       "    <tr>\n",
       "      <th>0</th>\n",
       "      <td>557</td>\n",
       "    </tr>\n",
       "    <tr>\n",
       "      <th>1</th>\n",
       "      <td>657</td>\n",
       "    </tr>\n",
       "    <tr>\n",
       "      <th>2</th>\n",
       "      <td>944</td>\n",
       "    </tr>\n",
       "    <tr>\n",
       "      <th>3</th>\n",
       "      <td>1437</td>\n",
       "    </tr>\n",
       "    <tr>\n",
       "      <th>4</th>\n",
       "      <td>2120</td>\n",
       "    </tr>\n",
       "  </tbody>\n",
       "</table>\n",
       "</div>"
      ],
      "text/plain": [
       "   Cases\n",
       "0    557\n",
       "1    657\n",
       "2    944\n",
       "3   1437\n",
       "4   2120"
      ]
     },
     "execution_count": 24,
     "metadata": {},
     "output_type": "execute_result"
    }
   ],
   "source": [
    "df.head()"
   ]
  },
  {
   "cell_type": "code",
   "execution_count": 25,
   "metadata": {},
   "outputs": [],
   "source": [
    "df.to_csv(\"./Test.csv\", index=False)"
   ]
  },
  {
   "cell_type": "code",
   "execution_count": null,
   "metadata": {},
   "outputs": [],
   "source": []
  }
 ],
 "metadata": {
  "kernelspec": {
   "display_name": "Python 3",
   "language": "python",
   "name": "python3"
  },
  "language_info": {
   "codemirror_mode": {
    "name": "ipython",
    "version": 3
   },
   "file_extension": ".py",
   "mimetype": "text/x-python",
   "name": "python",
   "nbconvert_exporter": "python",
   "pygments_lexer": "ipython3",
   "version": "3.9.6"
  }
 },
 "nbformat": 4,
 "nbformat_minor": 2
}
