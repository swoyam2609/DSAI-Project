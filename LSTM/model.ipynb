{
 "cells": [
  {
   "cell_type": "code",
   "execution_count": 2,
   "metadata": {},
   "outputs": [
    {
     "ename": "IndexError",
     "evalue": "tuple index out of range",
     "output_type": "error",
     "traceback": [
      "\u001b[0;31m---------------------------------------------------------------------------\u001b[0m",
      "\u001b[0;31mIndexError\u001b[0m                                Traceback (most recent call last)",
      "Cell \u001b[0;32mIn[2], line 47\u001b[0m\n\u001b[1;32m     45\u001b[0m \u001b[38;5;66;03m# Example usage:\u001b[39;00m\n\u001b[1;32m     46\u001b[0m input_numbers \u001b[38;5;241m=\u001b[39m [\u001b[38;5;241m1\u001b[39m, \u001b[38;5;241m2\u001b[39m, \u001b[38;5;241m3\u001b[39m, \u001b[38;5;241m4\u001b[39m, \u001b[38;5;241m5\u001b[39m, \u001b[38;5;241m6\u001b[39m, \u001b[38;5;241m7\u001b[39m, \u001b[38;5;241m8\u001b[39m, \u001b[38;5;241m9\u001b[39m, \u001b[38;5;241m10\u001b[39m]  \u001b[38;5;66;03m# Example input numbers\u001b[39;00m\n\u001b[0;32m---> 47\u001b[0m predicted_sequence \u001b[38;5;241m=\u001b[39m train_lstm_and_predict(input_numbers)\n\u001b[1;32m     48\u001b[0m \u001b[38;5;28mprint\u001b[39m(predicted_sequence)\n",
      "Cell \u001b[0;32mIn[2], line 21\u001b[0m, in \u001b[0;36mtrain_lstm_and_predict\u001b[0;34m(input_numbers)\u001b[0m\n\u001b[1;32m     18\u001b[0m y \u001b[38;5;241m=\u001b[39m np\u001b[38;5;241m.\u001b[39marray(y)\n\u001b[1;32m     20\u001b[0m \u001b[38;5;66;03m# Reshape input for LSTM [samples, timesteps, features]\u001b[39;00m\n\u001b[0;32m---> 21\u001b[0m X \u001b[38;5;241m=\u001b[39m np\u001b[38;5;241m.\u001b[39mreshape(X, (X\u001b[38;5;241m.\u001b[39mshape[\u001b[38;5;241m0\u001b[39m], X\u001b[38;5;241m.\u001b[39mshape[\u001b[38;5;241m1\u001b[39m], \u001b[38;5;241m1\u001b[39m))\n\u001b[1;32m     23\u001b[0m \u001b[38;5;66;03m# Define the LSTM model\u001b[39;00m\n\u001b[1;32m     24\u001b[0m model \u001b[38;5;241m=\u001b[39m Sequential()\n",
      "\u001b[0;31mIndexError\u001b[0m: tuple index out of range"
     ]
    }
   ],
   "source": []
  },
  {
   "cell_type": "code",
   "execution_count": 8,
   "metadata": {},
   "outputs": [],
   "source": [
    "import numpy as np\n",
    "from tensorflow import keras\n",
    "from tensorflow.keras.layers import LSTM, Dense\n",
    "\n",
    "def lstm_predict(input_list, n_predictions, n_steps=1, epochs=100, batch_size=32):\n",
    "  \"\"\"\n",
    "  Predicts future values in a time series using an LSTM model (without scaling).\n",
    "\n",
    "  Args:\n",
    "      input_list (list): A list of numbers representing the initial time series data.\n",
    "      n_predictions (int): The number of future values to predict.\n",
    "      n_steps (int, optional): The number of past values used for each prediction. Defaults to 1.\n",
    "      epochs (int, optional): The number of epochs to train the LSTM model. Defaults to 100.\n",
    "      batch_size (int, optional): The batch size used during training. Defaults to 32.\n",
    "\n",
    "  Returns:\n",
    "      list: A list containing the original input list followed by the predicted values.\n",
    "  \"\"\"\n",
    "\n",
    "  # Convert the input list to a NumPy array\n",
    "  data = np.array(input_list)\n",
    "\n",
    "  # Reshape the data for LSTM input (samples, timesteps, features)\n",
    "  X, y = [], []\n",
    "  for i in range(len(data) - n_steps):\n",
    "    X.append(data[i:(i + n_steps)])\n",
    "    y.append(data[i + n_steps])\n",
    "  X = np.array(X)\n",
    "  y = np.array(y)\n",
    "\n",
    "  # Create the LSTM model\n",
    "  model = keras.Sequential()\n",
    "  model.add(LSTM(50, return_sequences=True, input_shape=(n_steps, 1)))  # Adjust units as needed\n",
    "  model.add(LSTM(50))  # Adjust units as needed\n",
    "  model.add(Dense(1))\n",
    "  model.compile(loss='mse', optimizer='adam')\n",
    "\n",
    "  # Train the model\n",
    "  model.fit(X, y, epochs=epochs, batch_size=batch_size, verbose=0)\n",
    "\n",
    "  # Make predictions\n",
    "  predicted = []\n",
    "  last_sequence = X[-1]  # Get the last sequence for prediction\n",
    "\n",
    "  for _ in range(n_predictions):\n",
    "    prediction = model.predict(np.array([last_sequence]))[0][0]\n",
    "    predicted.append(prediction)\n",
    "\n",
    "    # Update the last sequence for further prediction (optional)\n",
    "    last_sequence = np.append(last_sequence[1:], prediction)\n",
    "\n",
    "  # Combine the original list with predictions\n",
    "  return input_list + predicted\n",
    "\n",
    "# Example usage\n",
    "input_data = [1, 2, 3, 4, 5]\n",
    "predictions = lstm_predict(input_data, n_predictions=1408)\n",
    "print(predictions)\n"
   ]
  },
  {
   "cell_type": "code",
   "execution_count": null,
   "metadata": {},
   "outputs": [],
   "source": []
  }
 ],
 "metadata": {
  "kernelspec": {
   "display_name": "testenv",
   "language": "python",
   "name": "python3"
  },
  "language_info": {
   "codemirror_mode": {
    "name": "ipython",
    "version": 3
   },
   "file_extension": ".py",
   "mimetype": "text/x-python",
   "name": "python",
   "nbconvert_exporter": "python",
   "pygments_lexer": "ipython3",
   "version": "3.11.5"
  }
 },
 "nbformat": 4,
 "nbformat_minor": 2
}
